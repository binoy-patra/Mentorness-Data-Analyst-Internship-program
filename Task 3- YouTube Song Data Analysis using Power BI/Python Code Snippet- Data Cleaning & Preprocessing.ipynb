{
 "cells": [
  {
   "cell_type": "markdown",
   "id": "5c44ad01",
   "metadata": {},
   "source": [
    "# Song Data Analysis \n",
    "\n",
    "## Problem Statement:\n",
    "This internship project aims to conduct a comprehensive analysis of YouTube songs data using Power BI.\n",
    "The dataset contains key attributes such as video ID, channel title, title, description, tags, published date,\n",
    "view count, like count, favorite count, comment count, video duration, video definition, and caption\n",
    "details. The goal is to utilize Power BI to create insightful visualizations and reports that provide a deeper\n",
    "understanding of YouTube songs' performance, popularity, and user engagement. The analysis aims to\n",
    "uncover trends, preferences, and patterns in the data to aid content creators and stakeholders in\n",
    "optimizing their YouTube song content.\n",
    "\n",
    "## Methodology: \n",
    "- Importing important modules \n",
    "- Load and extracting basic imformations \n",
    "- Data cleaning  & pre-processing \n",
    "- EDA & Data visualizaion using Python \n",
    "- Making Dashboard using Power BI"
   ]
  },
  {
   "cell_type": "markdown",
   "id": "7ca46d9c",
   "metadata": {},
   "source": [
    "# Importing Important Modules"
   ]
  },
  {
   "cell_type": "code",
   "execution_count": 1,
   "id": "c37032c7",
   "metadata": {},
   "outputs": [],
   "source": [
    "# Importing important modules \n",
    "import numpy as np\n",
    "import pandas as pd \n",
    "import re  #Regex\n",
    "import matplotlib.pyplot as plt \n",
    "%matplotlib inline\n",
    "import seaborn as sns \n",
    "plt.rcParams['figure.figsize']=[15,4]\n",
    "\n",
    "# To aavoid any Warnings \n",
    "import warnings\n",
    "warnings.filterwarnings('ignore')"
   ]
  },
  {
   "cell_type": "markdown",
   "id": "779644c5",
   "metadata": {},
   "source": [
    "# Loading and Extracting Basic information about the dataset"
   ]
  },
  {
   "cell_type": "code",
   "execution_count": 2,
   "id": "e1b70419",
   "metadata": {},
   "outputs": [],
   "source": [
    "# Loading data\n",
    "data= pd.read_excel('Dataset/songs.xlsx')"
   ]
  },
  {
   "cell_type": "code",
   "execution_count": 3,
   "id": "706d494b",
   "metadata": {},
   "outputs": [
    {
     "data": {
      "text/html": [
       "<div>\n",
       "<style scoped>\n",
       "    .dataframe tbody tr th:only-of-type {\n",
       "        vertical-align: middle;\n",
       "    }\n",
       "\n",
       "    .dataframe tbody tr th {\n",
       "        vertical-align: top;\n",
       "    }\n",
       "\n",
       "    .dataframe thead th {\n",
       "        text-align: right;\n",
       "    }\n",
       "</style>\n",
       "<table border=\"1\" class=\"dataframe\">\n",
       "  <thead>\n",
       "    <tr style=\"text-align: right;\">\n",
       "      <th></th>\n",
       "      <th>Unnamed: 0</th>\n",
       "      <th>video_id</th>\n",
       "      <th>channelTitle</th>\n",
       "      <th>title</th>\n",
       "      <th>description</th>\n",
       "      <th>tags</th>\n",
       "      <th>publishedAt</th>\n",
       "      <th>viewCount</th>\n",
       "      <th>likeCount</th>\n",
       "      <th>favoriteCount</th>\n",
       "      <th>commentCount</th>\n",
       "      <th>duration</th>\n",
       "      <th>definition</th>\n",
       "      <th>caption</th>\n",
       "    </tr>\n",
       "  </thead>\n",
       "  <tbody>\n",
       "    <tr>\n",
       "      <th>11397</th>\n",
       "      <td>11397</td>\n",
       "      <td>s8eJkQIUnmQ</td>\n",
       "      <td>T-Series</td>\n",
       "      <td>Tere Liye Full Song (Audio) | 'SANAM RE' | Pul...</td>\n",
       "      <td>Presenting Tere Liye full audio song from Sana...</td>\n",
       "      <td>['tere liye song', 'tere liye shreya ghoshal s...</td>\n",
       "      <td>2016-01-04T15:12:00Z</td>\n",
       "      <td>4891929</td>\n",
       "      <td>27283</td>\n",
       "      <td>0</td>\n",
       "      <td>1297</td>\n",
       "      <td>PT7M8S</td>\n",
       "      <td>hd</td>\n",
       "      <td>False</td>\n",
       "    </tr>\n",
       "    <tr>\n",
       "      <th>8065</th>\n",
       "      <td>8065</td>\n",
       "      <td>U2nHe5jc_es</td>\n",
       "      <td>T-Series</td>\n",
       "      <td>Raid  (Dialogue Promo 3) | Ajay Devgn | Ileana...</td>\n",
       "      <td>We present to you the third dialogue promo of ...</td>\n",
       "      <td>['bollywood songs', 'tseries offical channel',...</td>\n",
       "      <td>2018-02-16T15:00:04Z</td>\n",
       "      <td>192527</td>\n",
       "      <td>1824</td>\n",
       "      <td>0</td>\n",
       "      <td>96</td>\n",
       "      <td>PT30S</td>\n",
       "      <td>hd</td>\n",
       "      <td>False</td>\n",
       "    </tr>\n",
       "    <tr>\n",
       "      <th>9852</th>\n",
       "      <td>9852</td>\n",
       "      <td>Z8-Hz0kAKfQ</td>\n",
       "      <td>T-Series</td>\n",
       "      <td>Wajah Tum Ho:Dialogue PROMO 17 | Sana, Sharman...</td>\n",
       "      <td>Presenting the 17th Dialogue Promo from the up...</td>\n",
       "      <td>['bollywood trailers 2016 movies official', 'w...</td>\n",
       "      <td>2016-12-12T16:30:01Z</td>\n",
       "      <td>27346</td>\n",
       "      <td>110</td>\n",
       "      <td>0</td>\n",
       "      <td>2</td>\n",
       "      <td>PT10S</td>\n",
       "      <td>hd</td>\n",
       "      <td>False</td>\n",
       "    </tr>\n",
       "    <tr>\n",
       "      <th>13258</th>\n",
       "      <td>13258</td>\n",
       "      <td>eU5k0UrGx-E</td>\n",
       "      <td>T-Series</td>\n",
       "      <td>\"Main Tera Hero\" Palat - Tera Hero Idhar Hai S...</td>\n",
       "      <td>Presenting Palat - Tera Hero Idhar Hai song te...</td>\n",
       "      <td>['palat song main tera hero', 'main tera hero ...</td>\n",
       "      <td>2014-02-26T11:16:38Z</td>\n",
       "      <td>956652</td>\n",
       "      <td>2875</td>\n",
       "      <td>0</td>\n",
       "      <td>66</td>\n",
       "      <td>PT16S</td>\n",
       "      <td>hd</td>\n",
       "      <td>False</td>\n",
       "    </tr>\n",
       "    <tr>\n",
       "      <th>4324</th>\n",
       "      <td>4324</td>\n",
       "      <td>Ijr9ySQkriE</td>\n",
       "      <td>T-Series</td>\n",
       "      <td>Indie Hain Hum S2 with Tulsi Kumar | Ep-3 Prom...</td>\n",
       "      <td>T-Series &amp; Red FM brings to you the ultimate s...</td>\n",
       "      <td>['hindi songs', '2020 hindi songs', 'new hindi...</td>\n",
       "      <td>2021-02-24T09:10:18Z</td>\n",
       "      <td>296548</td>\n",
       "      <td>12456</td>\n",
       "      <td>0</td>\n",
       "      <td>735</td>\n",
       "      <td>PT49S</td>\n",
       "      <td>hd</td>\n",
       "      <td>False</td>\n",
       "    </tr>\n",
       "  </tbody>\n",
       "</table>\n",
       "</div>"
      ],
      "text/plain": [
       "       Unnamed: 0     video_id channelTitle  \\\n",
       "11397       11397  s8eJkQIUnmQ     T-Series   \n",
       "8065         8065  U2nHe5jc_es     T-Series   \n",
       "9852         9852  Z8-Hz0kAKfQ     T-Series   \n",
       "13258       13258  eU5k0UrGx-E     T-Series   \n",
       "4324         4324  Ijr9ySQkriE     T-Series   \n",
       "\n",
       "                                                   title  \\\n",
       "11397  Tere Liye Full Song (Audio) | 'SANAM RE' | Pul...   \n",
       "8065   Raid  (Dialogue Promo 3) | Ajay Devgn | Ileana...   \n",
       "9852   Wajah Tum Ho:Dialogue PROMO 17 | Sana, Sharman...   \n",
       "13258  \"Main Tera Hero\" Palat - Tera Hero Idhar Hai S...   \n",
       "4324   Indie Hain Hum S2 with Tulsi Kumar | Ep-3 Prom...   \n",
       "\n",
       "                                             description  \\\n",
       "11397  Presenting Tere Liye full audio song from Sana...   \n",
       "8065   We present to you the third dialogue promo of ...   \n",
       "9852   Presenting the 17th Dialogue Promo from the up...   \n",
       "13258  Presenting Palat - Tera Hero Idhar Hai song te...   \n",
       "4324   T-Series & Red FM brings to you the ultimate s...   \n",
       "\n",
       "                                                    tags  \\\n",
       "11397  ['tere liye song', 'tere liye shreya ghoshal s...   \n",
       "8065   ['bollywood songs', 'tseries offical channel',...   \n",
       "9852   ['bollywood trailers 2016 movies official', 'w...   \n",
       "13258  ['palat song main tera hero', 'main tera hero ...   \n",
       "4324   ['hindi songs', '2020 hindi songs', 'new hindi...   \n",
       "\n",
       "                publishedAt  viewCount  likeCount  favoriteCount  \\\n",
       "11397  2016-01-04T15:12:00Z    4891929      27283              0   \n",
       "8065   2018-02-16T15:00:04Z     192527       1824              0   \n",
       "9852   2016-12-12T16:30:01Z      27346        110              0   \n",
       "13258  2014-02-26T11:16:38Z     956652       2875              0   \n",
       "4324   2021-02-24T09:10:18Z     296548      12456              0   \n",
       "\n",
       "       commentCount duration definition  caption  \n",
       "11397          1297   PT7M8S         hd    False  \n",
       "8065             96    PT30S         hd    False  \n",
       "9852              2    PT10S         hd    False  \n",
       "13258            66    PT16S         hd    False  \n",
       "4324            735    PT49S         hd    False  "
      ]
     },
     "execution_count": 3,
     "metadata": {},
     "output_type": "execute_result"
    }
   ],
   "source": [
    "# Reading Data\n",
    "data.sample(5)"
   ]
  },
  {
   "cell_type": "code",
   "execution_count": 4,
   "id": "94566a26",
   "metadata": {},
   "outputs": [
    {
     "data": {
      "text/plain": [
       "(19345, 14)"
      ]
     },
     "execution_count": 4,
     "metadata": {},
     "output_type": "execute_result"
    }
   ],
   "source": [
    "# Shape \n",
    "data.shape"
   ]
  },
  {
   "cell_type": "code",
   "execution_count": 5,
   "id": "e2a3d179",
   "metadata": {},
   "outputs": [
    {
     "data": {
      "text/plain": [
       "Index(['Unnamed: 0', 'video_id', 'channelTitle', 'title', 'description',\n",
       "       'tags', 'publishedAt', 'viewCount', 'likeCount', 'favoriteCount',\n",
       "       'commentCount', 'duration', 'definition', 'caption'],\n",
       "      dtype='object')"
      ]
     },
     "execution_count": 5,
     "metadata": {},
     "output_type": "execute_result"
    }
   ],
   "source": [
    "# Name of All Columns\n",
    "data.columns"
   ]
  },
  {
   "cell_type": "code",
   "execution_count": 6,
   "id": "af3799f4",
   "metadata": {},
   "outputs": [
    {
     "data": {
      "text/plain": [
       "Unnamed: 0        int64\n",
       "video_id         object\n",
       "channelTitle     object\n",
       "title            object\n",
       "description      object\n",
       "tags             object\n",
       "publishedAt      object\n",
       "viewCount         int64\n",
       "likeCount         int64\n",
       "favoriteCount     int64\n",
       "commentCount      int64\n",
       "duration         object\n",
       "definition       object\n",
       "caption            bool\n",
       "dtype: object"
      ]
     },
     "execution_count": 6,
     "metadata": {},
     "output_type": "execute_result"
    }
   ],
   "source": [
    "# Data Type Checking\n",
    "data.dtypes"
   ]
  },
  {
   "cell_type": "code",
   "execution_count": 7,
   "id": "21d40142",
   "metadata": {},
   "outputs": [
    {
     "data": {
      "text/plain": [
       "Unnamed: 0       19345\n",
       "video_id         19345\n",
       "channelTitle         1\n",
       "title            19220\n",
       "description      18359\n",
       "tags             14620\n",
       "publishedAt      19181\n",
       "viewCount        19131\n",
       "likeCount        11932\n",
       "favoriteCount        1\n",
       "commentCount      4493\n",
       "duration          1448\n",
       "definition           2\n",
       "caption              2\n",
       "dtype: int64"
      ]
     },
     "execution_count": 7,
     "metadata": {},
     "output_type": "execute_result"
    }
   ],
   "source": [
    "# Number of unique values accross all columns \n",
    "data.nunique()"
   ]
  },
  {
   "cell_type": "code",
   "execution_count": 8,
   "id": "32dccda8",
   "metadata": {},
   "outputs": [
    {
     "data": {
      "text/plain": [
       "Unnamed: 0       0\n",
       "video_id         0\n",
       "channelTitle     0\n",
       "title            0\n",
       "description      3\n",
       "tags             0\n",
       "publishedAt      0\n",
       "viewCount        0\n",
       "likeCount        0\n",
       "favoriteCount    0\n",
       "commentCount     0\n",
       "duration         0\n",
       "definition       0\n",
       "caption          0\n",
       "dtype: int64"
      ]
     },
     "execution_count": 8,
     "metadata": {},
     "output_type": "execute_result"
    }
   ],
   "source": [
    "# Null Checking\n",
    "data.isna().sum()"
   ]
  },
  {
   "cell_type": "code",
   "execution_count": 9,
   "id": "b83e1cf4",
   "metadata": {},
   "outputs": [
    {
     "data": {
      "text/plain": [
       "0"
      ]
     },
     "execution_count": 9,
     "metadata": {},
     "output_type": "execute_result"
    }
   ],
   "source": [
    "# Duplicate Checking\n",
    "data.duplicated().sum()"
   ]
  },
  {
   "cell_type": "code",
   "execution_count": 10,
   "id": "37712b67",
   "metadata": {},
   "outputs": [
    {
     "data": {
      "text/plain": [
       "270830"
      ]
     },
     "execution_count": 10,
     "metadata": {},
     "output_type": "execute_result"
    }
   ],
   "source": [
    "# Size of the dataset\n",
    "data.size"
   ]
  },
  {
   "cell_type": "markdown",
   "id": "9498806a",
   "metadata": {},
   "source": [
    "### Conclussion: \n",
    "1. We have total 19345 rows/Observations and  14 Columns/Features. \n",
    "2. Dataset Description:\n",
    "    1. video_id: Unique identifier for each YouTube video.\n",
    "    2. channelTitle: Title of the YouTube channel publishing the song.\n",
    "    3. title: Title of the YouTube song video.\n",
    "    4. description: Description provided for the YouTube song video.\n",
    "    5. tags: Tags associated with the YouTube song video.\n",
    "    6. publishedAt: Date and time when the YouTube song video was published.\n",
    "    7. viewCount: Number of views received by the YouTube song video.\n",
    "    8. likeCount: Number of likes received by the YouTube song video.\n",
    "    9. favoriteCount: Number of times the YouTube song video has been marked as a favorite.\n",
    "    10. commentCount: Number of comments posted on the YouTube song video.\n",
    "    11. duration: Duration of the YouTube song video.\n",
    "    12. definition: Video definition or quality (e.g., HD, SD).\n",
    "    13. caption: Availability of captions for the YouTube song video.\n",
    "3. Data type of few columns are not apppropiate. Such as publishedAt,duration. \n",
    "4. Dataset has few columns that doesnot hold any meaning. Such as Unnamed: 0, favoriteCount.\n",
    "5. Dataset has only 3 null values in Description columns. \n",
    "6. Dataset does not have any duplicate values."
   ]
  },
  {
   "cell_type": "code",
   "execution_count": null,
   "id": "6c4069ef",
   "metadata": {},
   "outputs": [],
   "source": []
  },
  {
   "cell_type": "markdown",
   "id": "f79284b2",
   "metadata": {},
   "source": [
    "# Data Cleaning & Pre-processing"
   ]
  },
  {
   "cell_type": "code",
   "execution_count": 11,
   "id": "cce5583b",
   "metadata": {},
   "outputs": [],
   "source": [
    "# Dropping meaningless columns\n",
    "data.drop('Unnamed: 0',axis=1,inplace=True)\n",
    "data.drop('favoriteCount',axis=1,inplace=True)"
   ]
  },
  {
   "cell_type": "code",
   "execution_count": 12,
   "id": "7e0dcf83",
   "metadata": {},
   "outputs": [],
   "source": [
    "# Changing datatypes\n",
    "# Publish Date to Year,Month\n",
    "data['publishedAt'] = pd.to_datetime(data['publishedAt'])\n",
    "data['Year'] = data['publishedAt'].dt.year\n",
    "data['Month'] = data['publishedAt'].dt.month_name()\n",
    "data['Day'] = pd.to_datetime(data['publishedAt']).dt.day_name()"
   ]
  },
  {
   "cell_type": "code",
   "execution_count": 13,
   "id": "05a0a026",
   "metadata": {},
   "outputs": [],
   "source": [
    "# Duration to Minutes \n",
    "# Craeting Function\n",
    "def duration_to_min(a): \n",
    "    minutes_match=re.search(r'(\\d+)M',a)\n",
    "    second_match= re.search(r'(\\d+)S',a)\n",
    "    \n",
    "    minutes= int(minutes_match.group(1)) if minutes_match else 0 \n",
    "    seconds= int(second_match.group(1)) if second_match else 0 \n",
    "    \n",
    "    total_min= minutes+ seconds/60.0\n",
    "    return total_min\n",
    "\n",
    "# Applying Function   \n",
    "data['duration']= data['duration'].apply(duration_to_min)"
   ]
  },
  {
   "cell_type": "raw",
   "id": "cd6b4e9f",
   "metadata": {},
   "source": [
    "# Extracting song name from title \n",
    "# Craeting Function\n",
    "def extract_song_name(title): \n",
    "    match=re.match(r'^[^(){}\\[\\]:-]+',title)\n",
    "    if match: \n",
    "        song_name= match.group(0).strip()\n",
    "        cleaned_name= re.sub(r'[^a-zA-Z0-9\\s]','',song_name)\n",
    "        return cleaned_name.capitalize()\n",
    "    else:\n",
    "        cleaned_name= re.sub(r'[^a-zA-Z0-9\\s]','',title)\n",
    "        return cleaned_name.capitalize()\n",
    "    \n",
    "# Applying Function\n",
    "data['title']= data['title'].apply(extract_song_name)"
   ]
  },
  {
   "cell_type": "raw",
   "id": "32fa5a77",
   "metadata": {},
   "source": [
    "data.to_csv('Cleaned Song Data.csv',index=False)"
   ]
  },
  {
   "cell_type": "code",
   "execution_count": null,
   "id": "db172649",
   "metadata": {},
   "outputs": [],
   "source": []
  },
  {
   "cell_type": "markdown",
   "id": "ef198066",
   "metadata": {},
   "source": [
    "# EDA & Data Visualization"
   ]
  },
  {
   "cell_type": "code",
   "execution_count": 14,
   "id": "c1865bda",
   "metadata": {},
   "outputs": [
    {
     "data": {
      "text/plain": [
       "19345"
      ]
     },
     "execution_count": 14,
     "metadata": {},
     "output_type": "execute_result"
    }
   ],
   "source": [
    "# Total Songs \n",
    "data['video_id'].nunique()"
   ]
  },
  {
   "cell_type": "code",
   "execution_count": 15,
   "id": "dc75ceab",
   "metadata": {},
   "outputs": [
    {
     "data": {
      "text/plain": [
       "T-Series    19345\n",
       "Name: channelTitle, dtype: int64"
      ]
     },
     "execution_count": 15,
     "metadata": {},
     "output_type": "execute_result"
    }
   ],
   "source": [
    "# Different Channels\n",
    "data.channelTitle.value_counts()"
   ]
  },
  {
   "cell_type": "code",
   "execution_count": 16,
   "id": "902900df",
   "metadata": {},
   "outputs": [
    {
     "data": {
      "text/plain": [
       "min    2010\n",
       "max    2023\n",
       "Name: Year, dtype: int64"
      ]
     },
     "execution_count": 16,
     "metadata": {},
     "output_type": "execute_result"
    }
   ],
   "source": [
    "# Start and End Year \n",
    "data['Year'].agg({'min','max'})"
   ]
  },
  {
   "cell_type": "code",
   "execution_count": 17,
   "id": "d72064dd",
   "metadata": {},
   "outputs": [
    {
     "data": {
      "text/plain": [
       "2011    4143\n",
       "2022    1840\n",
       "2016    1623\n",
       "2017    1574\n",
       "2019    1383\n",
       "2023    1325\n",
       "2021    1303\n",
       "2018    1278\n",
       "2020    1085\n",
       "2015    1034\n",
       "2014     990\n",
       "2013     977\n",
       "2012     789\n",
       "2010       1\n",
       "Name: Year, dtype: int64"
      ]
     },
     "execution_count": 17,
     "metadata": {},
     "output_type": "execute_result"
    }
   ],
   "source": [
    "# Year Distribution\n",
    "data.Year.value_counts()"
   ]
  },
  {
   "cell_type": "code",
   "execution_count": 18,
   "id": "59086e81",
   "metadata": {},
   "outputs": [
    {
     "data": {
      "text/plain": [
       "May          4810\n",
       "April        1699\n",
       "July         1478\n",
       "February     1377\n",
       "August       1352\n",
       "March        1333\n",
       "December     1256\n",
       "September    1254\n",
       "October      1232\n",
       "November     1205\n",
       "January      1193\n",
       "June         1156\n",
       "Name: Month, dtype: int64"
      ]
     },
     "execution_count": 18,
     "metadata": {},
     "output_type": "execute_result"
    }
   ],
   "source": [
    "# Month Distribution\n",
    "data.Month.value_counts()"
   ]
  },
  {
   "cell_type": "code",
   "execution_count": 19,
   "id": "fc931a98",
   "metadata": {},
   "outputs": [
    {
     "data": {
      "text/plain": [
       "Monday       3729\n",
       "Tuesday      3184\n",
       "Friday       3176\n",
       "Wednesday    2829\n",
       "Thursday     2673\n",
       "Saturday     2487\n",
       "Sunday       1267\n",
       "Name: Day, dtype: int64"
      ]
     },
     "execution_count": 19,
     "metadata": {},
     "output_type": "execute_result"
    }
   ],
   "source": [
    "# Day Distribution\n",
    "data.Day.value_counts()"
   ]
  },
  {
   "cell_type": "code",
   "execution_count": 20,
   "id": "6303a32e",
   "metadata": {},
   "outputs": [
    {
     "data": {
      "text/html": [
       "<div>\n",
       "<style scoped>\n",
       "    .dataframe tbody tr th:only-of-type {\n",
       "        vertical-align: middle;\n",
       "    }\n",
       "\n",
       "    .dataframe tbody tr th {\n",
       "        vertical-align: top;\n",
       "    }\n",
       "\n",
       "    .dataframe thead th {\n",
       "        text-align: right;\n",
       "    }\n",
       "</style>\n",
       "<table border=\"1\" class=\"dataframe\">\n",
       "  <thead>\n",
       "    <tr style=\"text-align: right;\">\n",
       "      <th></th>\n",
       "      <th>viewCount</th>\n",
       "      <th>likeCount</th>\n",
       "      <th>commentCount</th>\n",
       "      <th>duration</th>\n",
       "    </tr>\n",
       "  </thead>\n",
       "  <tbody>\n",
       "    <tr>\n",
       "      <th>mean</th>\n",
       "      <td>1.193826e+07</td>\n",
       "      <td>8.718149e+04</td>\n",
       "      <td>2636.024141</td>\n",
       "      <td>4.594658</td>\n",
       "    </tr>\n",
       "    <tr>\n",
       "      <th>min</th>\n",
       "      <td>0.000000e+00</td>\n",
       "      <td>0.000000e+00</td>\n",
       "      <td>0.000000</td>\n",
       "      <td>0.000000</td>\n",
       "    </tr>\n",
       "    <tr>\n",
       "      <th>max</th>\n",
       "      <td>1.536719e+09</td>\n",
       "      <td>1.284022e+07</td>\n",
       "      <td>420375.000000</td>\n",
       "      <td>59.533333</td>\n",
       "    </tr>\n",
       "  </tbody>\n",
       "</table>\n",
       "</div>"
      ],
      "text/plain": [
       "         viewCount     likeCount   commentCount   duration\n",
       "mean  1.193826e+07  8.718149e+04    2636.024141   4.594658\n",
       "min   0.000000e+00  0.000000e+00       0.000000   0.000000\n",
       "max   1.536719e+09  1.284022e+07  420375.000000  59.533333"
      ]
     },
     "execution_count": 20,
     "metadata": {},
     "output_type": "execute_result"
    }
   ],
   "source": [
    "# Statistical Overview\n",
    "data[['viewCount', 'likeCount', 'commentCount','duration']].agg({'min','max','mean'})"
   ]
  },
  {
   "cell_type": "code",
   "execution_count": 21,
   "id": "8d3ad016",
   "metadata": {},
   "outputs": [
    {
     "data": {
      "text/plain": [
       "hd    16583\n",
       "sd     2762\n",
       "Name: definition, dtype: int64"
      ]
     },
     "execution_count": 21,
     "metadata": {},
     "output_type": "execute_result"
    }
   ],
   "source": [
    "# Defination Distribution (hd:High Defination, sd:Standard Defination)\n",
    "data.definition.value_counts()"
   ]
  },
  {
   "cell_type": "code",
   "execution_count": 22,
   "id": "a93b57e0",
   "metadata": {},
   "outputs": [
    {
     "data": {
      "text/plain": [
       "False    19144\n",
       "True       201\n",
       "Name: caption, dtype: int64"
      ]
     },
     "execution_count": 22,
     "metadata": {},
     "output_type": "execute_result"
    }
   ],
   "source": [
    "# Caption Included or not\n",
    "data.caption.value_counts()"
   ]
  },
  {
   "cell_type": "markdown",
   "id": "602edee7",
   "metadata": {},
   "source": [
    "### Conclussion: \n",
    "#### Overall Summary:\n",
    "\n",
    "* Total Songs: The dataset comprises 19,345 unique YouTube songs.\n",
    "* Different Channels: All songs are published by the channel T-Series.\n",
    "* Start and End Year: The songs span from 2010 to 2023.\n",
    "* Year Distribution:\n",
    "    - Peak year for song releases was 2011 with 4,143 songs.\n",
    "    - Other notable years include 2022 (1,840) and 2016 (1,623).\n",
    "* Month Distribution:\n",
    "    - May saw the highest number of song releases with 4,810 songs.\n",
    "    - Other high-release months include April (1,699) and July (1,478).    \n",
    "* Day Distribution:\n",
    "    - Monday had the highest number of releases with 3,729 songs.\n",
    "    - Other active days include Tuesday (3,184) and Friday (3,176).   \n",
    "* Statistical Overview:\n",
    "    * View Count: Max: 1.54 billion, Mean: 11.94 million, Min: 0\n",
    "    * Like Count: Max: 12.84 million, Mean: 87,181, Min: 0\n",
    "    * Comment Count: Max: 420,375, Mean: 2,636, Min: 0\n",
    "    * Duration (minutes): Max: 59.53, Mean: 4.59, Min: 0\n",
    "        \n",
    "* Definition Distribution:\n",
    "    - HD: 16,583 songs\n",
    "    - SD: 2,762 songs\n",
    "    \n",
    "* Caption Inclusion:\n",
    "    - No Captions: 19,144 songs\n",
    "    - Captions Available: 201 songs"
   ]
  },
  {
   "cell_type": "code",
   "execution_count": null,
   "id": "a6173ec6",
   "metadata": {},
   "outputs": [],
   "source": []
  },
  {
   "cell_type": "code",
   "execution_count": 24,
   "id": "4cb2da37",
   "metadata": {},
   "outputs": [
    {
     "data": {
      "image/png": "[encoded data removed]",
      "text/plain": [
       "<Figure size 1080x288 with 1 Axes>"
      ]
     },
     "metadata": {},
     "output_type": "display_data"
    }
   ],
   "source": [
    "# Defination distribution \n",
    "explodes= (0,0.1,)\n",
    "plt.pie(data.definition.value_counts().values,labels=data.definition.value_counts().index,autopct='%1.1f%%',startangle=90,explode=explodes,shadow=True)\n",
    "plt.title('Video Defination Distribution')\n",
    "plt.show()"
   ]
  },
  {
   "cell_type": "code",
   "execution_count": 25,
   "id": "b61b2efc",
   "metadata": {},
   "outputs": [
    {
     "data": {
      "image/png": "[encoded data removed]",
      "text/plain": [
       "<Figure size 1080x288 with 1 Axes>"
      ]
     },
     "metadata": {
      "needs_background": "light"
     },
     "output_type": "display_data"
    }
   ],
   "source": [
    "# Distribution of View Counts\n",
    "sns.distplot(data['viewCount'])\n",
    "plt.title('Distribution of View Counts')\n",
    "plt.show()"
   ]
  },
  {
   "cell_type": "code",
   "execution_count": 26,
   "id": "71ca2797",
   "metadata": {},
   "outputs": [
    {
     "data": {
      "image/png": "[encoded data removed]",
      "text/plain": [
       "<Figure size 1080x288 with 1 Axes>"
      ]
     },
     "metadata": {
      "needs_background": "light"
     },
     "output_type": "display_data"
    }
   ],
   "source": [
    "# Distribution of Likes Counts\n",
    "sns.distplot(data['likeCount'])\n",
    "plt.title('Distribution of Likes Counts')\n",
    "plt.show()"
   ]
  },
  {
   "cell_type": "code",
   "execution_count": 27,
   "id": "125d02da",
   "metadata": {},
   "outputs": [
    {
     "data": {
      "image/png": "[encoded data removed]",
      "text/plain": [
       "<Figure size 1080x288 with 1 Axes>"
      ]
     },
     "metadata": {
      "needs_background": "light"
     },
     "output_type": "display_data"
    }
   ],
   "source": [
    "# Distribution of Comments Counts\n",
    "sns.distplot(data['commentCount'])\n",
    "plt.title('Distribution of Comments Counts')\n",
    "plt.show()"
   ]
  },
  {
   "cell_type": "code",
   "execution_count": 28,
   "id": "d6b7a2cb",
   "metadata": {},
   "outputs": [
    {
     "data": {
      "image/png": "[encoded data removed]",
      "text/plain": [
       "<Figure size 1080x288 with 1 Axes>"
      ]
     },
     "metadata": {
      "needs_background": "light"
     },
     "output_type": "display_data"
    }
   ],
   "source": [
    "# Distribution of Caption and Captionless Videos\n",
    "sns.countplot(data.caption)\n",
    "plt.title('Distribution of Caption and Captionless Videos')\n",
    "plt.show()"
   ]
  },
  {
   "cell_type": "code",
   "execution_count": null,
   "id": "09b72067",
   "metadata": {},
   "outputs": [],
   "source": []
  },
  {
   "cell_type": "markdown",
   "id": "20e5a94b",
   "metadata": {},
   "source": [
    "# Correlation, Covariance, Skewness Analysis"
   ]
  },
  {
   "cell_type": "code",
   "execution_count": 29,
   "id": "108eaa9c",
   "metadata": {},
   "outputs": [
    {
     "data": {
      "text/html": [
       "<div>\n",
       "<style scoped>\n",
       "    .dataframe tbody tr th:only-of-type {\n",
       "        vertical-align: middle;\n",
       "    }\n",
       "\n",
       "    .dataframe tbody tr th {\n",
       "        vertical-align: top;\n",
       "    }\n",
       "\n",
       "    .dataframe thead th {\n",
       "        text-align: right;\n",
       "    }\n",
       "</style>\n",
       "<table border=\"1\" class=\"dataframe\">\n",
       "  <thead>\n",
       "    <tr style=\"text-align: right;\">\n",
       "      <th></th>\n",
       "      <th>index</th>\n",
       "      <th>viewCount</th>\n",
       "      <th>likeCount</th>\n",
       "      <th>commentCount</th>\n",
       "      <th>duration</th>\n",
       "    </tr>\n",
       "  </thead>\n",
       "  <tbody>\n",
       "    <tr>\n",
       "      <th>0</th>\n",
       "      <td>viewCount</td>\n",
       "      <td>1.000000</td>\n",
       "      <td>0.906971</td>\n",
       "      <td>0.764075</td>\n",
       "      <td>-0.007209</td>\n",
       "    </tr>\n",
       "    <tr>\n",
       "      <th>1</th>\n",
       "      <td>likeCount</td>\n",
       "      <td>0.906971</td>\n",
       "      <td>1.000000</td>\n",
       "      <td>0.873397</td>\n",
       "      <td>-0.013867</td>\n",
       "    </tr>\n",
       "    <tr>\n",
       "      <th>2</th>\n",
       "      <td>commentCount</td>\n",
       "      <td>0.764075</td>\n",
       "      <td>0.873397</td>\n",
       "      <td>1.000000</td>\n",
       "      <td>-0.011446</td>\n",
       "    </tr>\n",
       "    <tr>\n",
       "      <th>3</th>\n",
       "      <td>duration</td>\n",
       "      <td>-0.007209</td>\n",
       "      <td>-0.013867</td>\n",
       "      <td>-0.011446</td>\n",
       "      <td>1.000000</td>\n",
       "    </tr>\n",
       "  </tbody>\n",
       "</table>\n",
       "</div>"
      ],
      "text/plain": [
       "          index  viewCount  likeCount  commentCount  duration\n",
       "0     viewCount   1.000000   0.906971      0.764075 -0.007209\n",
       "1     likeCount   0.906971   1.000000      0.873397 -0.013867\n",
       "2  commentCount   0.764075   0.873397      1.000000 -0.011446\n",
       "3      duration  -0.007209  -0.013867     -0.011446  1.000000"
      ]
     },
     "execution_count": 29,
     "metadata": {},
     "output_type": "execute_result"
    }
   ],
   "source": [
    "# Correlations \n",
    "data[['viewCount', 'likeCount', 'commentCount', 'duration']].corr().reset_index()"
   ]
  },
  {
   "cell_type": "code",
   "execution_count": 30,
   "id": "591d71fa",
   "metadata": {},
   "outputs": [
    {
     "data": {
      "text/plain": [
       "<AxesSubplot:>"
      ]
     },
     "execution_count": 30,
     "metadata": {},
     "output_type": "execute_result"
    },
    {
     "data": {
      "image/png": "[encoded data removed]",
      "text/plain": [
       "<Figure size 1080x288 with 2 Axes>"
      ]
     },
     "metadata": {
      "needs_background": "light"
     },
     "output_type": "display_data"
    }
   ],
   "source": [
    "sns.heatmap(data[['viewCount', 'likeCount', 'commentCount', 'duration']].corr(),annot=True,cmap='Reds_r')"
   ]
  },
  {
   "cell_type": "markdown",
   "id": "1a61388f",
   "metadata": {},
   "source": [
    "### Conclussion: \n",
    "\n",
    "- **View Count:**\n",
    "  - Strong positive correlation with like count (**0.91**).\n",
    "  - Moderate positive correlation with comment count (**0.76**).\n",
    "  - Negligible correlation with duration (**-0.01**).\n",
    "\n",
    "- **Like Count:**\n",
    "  - Strong positive correlation with view count (**0.91**).\n",
    "  - Strong positive correlation with comment count (**0.87**).\n",
    "  - Negligible correlation with duration (**-0.01**).\n",
    "\n",
    "- **Comment Count:**\n",
    "  - Moderate positive correlation with view count (**0.76**).\n",
    "  - Strong positive correlation with like count (**0.87**).\n",
    "  - Negligible correlation with duration (**-0.01**).\n",
    "\n",
    "- **Duration:**\n",
    "  - Negligible correlation with view count (**-0.01**).\n",
    "  - Negligible correlation with like count (**-0.01**).\n",
    "  - Negligible correlation with comment count (**-0.01**).\n",
    "\n",
    "---\n",
    "\n",
    "This analysis highlights that the number of views, likes, and comments are strongly interrelated, indicating that popular videos tend to garner high engagement across these metrics. However, the duration of the videos shows no significant correlation with these engagement metrics, suggesting that video length is not a determining factor for viewership or interaction levels."
   ]
  },
  {
   "cell_type": "code",
   "execution_count": null,
   "id": "0b65ae9b",
   "metadata": {},
   "outputs": [],
   "source": []
  },
  {
   "cell_type": "code",
   "execution_count": 31,
   "id": "9cc059a1",
   "metadata": {},
   "outputs": [
    {
     "data": {
      "text/html": [
       "<div>\n",
       "<style scoped>\n",
       "    .dataframe tbody tr th:only-of-type {\n",
       "        vertical-align: middle;\n",
       "    }\n",
       "\n",
       "    .dataframe tbody tr th {\n",
       "        vertical-align: top;\n",
       "    }\n",
       "\n",
       "    .dataframe thead th {\n",
       "        text-align: right;\n",
       "    }\n",
       "</style>\n",
       "<table border=\"1\" class=\"dataframe\">\n",
       "  <thead>\n",
       "    <tr style=\"text-align: right;\">\n",
       "      <th></th>\n",
       "      <th>viewCount</th>\n",
       "      <th>likeCount</th>\n",
       "      <th>commentCount</th>\n",
       "      <th>duration</th>\n",
       "    </tr>\n",
       "  </thead>\n",
       "  <tbody>\n",
       "    <tr>\n",
       "      <th>viewCount</th>\n",
       "      <td>3.008493e+15</td>\n",
       "      <td>1.795919e+13</td>\n",
       "      <td>5.233292e+11</td>\n",
       "      <td>-2.471344e+06</td>\n",
       "    </tr>\n",
       "    <tr>\n",
       "      <th>likeCount</th>\n",
       "      <td>1.795919e+13</td>\n",
       "      <td>1.303281e+11</td>\n",
       "      <td>3.937268e+09</td>\n",
       "      <td>-3.129013e+04</td>\n",
       "    </tr>\n",
       "    <tr>\n",
       "      <th>commentCount</th>\n",
       "      <td>5.233292e+11</td>\n",
       "      <td>3.937268e+09</td>\n",
       "      <td>1.559296e+08</td>\n",
       "      <td>-8.933332e+02</td>\n",
       "    </tr>\n",
       "    <tr>\n",
       "      <th>duration</th>\n",
       "      <td>-2.471344e+06</td>\n",
       "      <td>-3.129013e+04</td>\n",
       "      <td>-8.933332e+02</td>\n",
       "      <td>3.906699e+01</td>\n",
       "    </tr>\n",
       "  </tbody>\n",
       "</table>\n",
       "</div>"
      ],
      "text/plain": [
       "                 viewCount     likeCount  commentCount      duration\n",
       "viewCount     3.008493e+15  1.795919e+13  5.233292e+11 -2.471344e+06\n",
       "likeCount     1.795919e+13  1.303281e+11  3.937268e+09 -3.129013e+04\n",
       "commentCount  5.233292e+11  3.937268e+09  1.559296e+08 -8.933332e+02\n",
       "duration     -2.471344e+06 -3.129013e+04 -8.933332e+02  3.906699e+01"
      ]
     },
     "execution_count": 31,
     "metadata": {},
     "output_type": "execute_result"
    }
   ],
   "source": [
    "# Covariance\n",
    "data[['viewCount', 'likeCount', 'commentCount', 'duration']].cov()"
   ]
  },
  {
   "cell_type": "markdown",
   "id": "5305d2df",
   "metadata": {},
   "source": [
    "### Conclussion: \n",
    "- **View Count:**\n",
    "  - High covariance with like count (**1.8e+13**).\n",
    "  - Moderate covariance with comment count (**5.2e+11**).\n",
    "  - Negligible covariance with duration (**-2.5e+06**).\n",
    "\n",
    "- **Like Count:**\n",
    "  - High covariance with view count (**1.8e+13**).\n",
    "  - Moderate covariance with comment count (**3.9e+09**).\n",
    "  - Negligible covariance with duration (**-3.1e+04**).\n",
    "\n",
    "- **Comment Count:**\n",
    "  - Moderate covariance with view count (**5.2e+11**).\n",
    "  - Moderate covariance with like count (**3.9e+09**).\n",
    "  - Negligible covariance with duration (**-8.9e+02**).\n",
    "\n",
    "- **Duration:**\n",
    "  - Negligible covariance with view count (**-2.5e+06**).\n",
    "  - Negligible covariance with like count (**-3.1e+04**).\n",
    "  - Negligible covariance with comment count (**-8.9e+02**).\n",
    "\n",
    "**The covariance analysis reinforces the findings from the correlation analysis. The high covariance between views, likes, and comments suggests that these metrics tend to vary together significantly.**\n",
    "However, the duration shows negligible covariance with other metrics, indicating that changes in video length do not significantly affect view counts, likes, or comments."
   ]
  },
  {
   "cell_type": "code",
   "execution_count": null,
   "id": "b31da441",
   "metadata": {},
   "outputs": [],
   "source": []
  },
  {
   "cell_type": "code",
   "execution_count": 32,
   "id": "7a692236",
   "metadata": {},
   "outputs": [
    {
     "data": {
      "text/plain": [
       "viewCount       11.231560\n",
       "likeCount       10.953065\n",
       "commentCount    13.625150\n",
       "duration         4.689827\n",
       "dtype: float64"
      ]
     },
     "execution_count": 32,
     "metadata": {},
     "output_type": "execute_result"
    }
   ],
   "source": [
    "# Skewness\n",
    "data[['viewCount', 'likeCount', 'commentCount', 'duration']].skew()"
   ]
  },
  {
   "cell_type": "markdown",
   "id": "670b4863",
   "metadata": {},
   "source": [
    "### Conclussion: \n",
    "- **View Count:**\n",
    "  - Skewness: **11.231560**\n",
    "  - Indicates a highly positively skewed distribution, suggesting a large number of videos with relatively low view counts and a few videos with extremely high view counts.\n",
    "\n",
    "- **Like Count:**\n",
    "  - Skewness: **10.953065**\n",
    "  - Similarly highly positively skewed, indicating that most videos have lower like counts with a few videos having very high like counts.\n",
    "\n",
    "- **Comment Count:**\n",
    "  - Skewness: **13.625150**\n",
    "  - Shows the highest skewness, suggesting an even more pronounced positive skew with many videos having low comment counts and a few having very high counts.\n",
    "\n",
    "- **Duration:**\n",
    "  - Skewness: **4.689827**\n",
    "  - Also positively skewed, though less so than the other metrics, indicating more videos with shorter durations and fewer with longer durations."
   ]
  },
  {
   "cell_type": "code",
   "execution_count": null,
   "id": "a137f62a",
   "metadata": {},
   "outputs": [],
   "source": []
  },
  {
   "cell_type": "markdown",
   "id": "992a2edd",
   "metadata": {},
   "source": [
    "# Year Wise Trends"
   ]
  },
  {
   "cell_type": "code",
   "execution_count": 33,
   "id": "913484e9",
   "metadata": {},
   "outputs": [
    {
     "data": {
      "text/html": [
       "<div>\n",
       "<style scoped>\n",
       "    .dataframe tbody tr th:only-of-type {\n",
       "        vertical-align: middle;\n",
       "    }\n",
       "\n",
       "    .dataframe tbody tr th {\n",
       "        vertical-align: top;\n",
       "    }\n",
       "\n",
       "    .dataframe thead th {\n",
       "        text-align: right;\n",
       "    }\n",
       "</style>\n",
       "<table border=\"1\" class=\"dataframe\">\n",
       "  <thead>\n",
       "    <tr style=\"text-align: right;\">\n",
       "      <th></th>\n",
       "      <th>Year</th>\n",
       "      <th>viewCount</th>\n",
       "      <th>likeCount</th>\n",
       "      <th>commentCount</th>\n",
       "    </tr>\n",
       "  </thead>\n",
       "  <tbody>\n",
       "    <tr>\n",
       "      <th>0</th>\n",
       "      <td>2010</td>\n",
       "      <td>1662209</td>\n",
       "      <td>29257</td>\n",
       "      <td>73</td>\n",
       "    </tr>\n",
       "    <tr>\n",
       "      <th>1</th>\n",
       "      <td>2011</td>\n",
       "      <td>30113879586</td>\n",
       "      <td>144932675</td>\n",
       "      <td>4029696</td>\n",
       "    </tr>\n",
       "    <tr>\n",
       "      <th>2</th>\n",
       "      <td>2012</td>\n",
       "      <td>6840911977</td>\n",
       "      <td>34242289</td>\n",
       "      <td>823860</td>\n",
       "    </tr>\n",
       "    <tr>\n",
       "      <th>3</th>\n",
       "      <td>2013</td>\n",
       "      <td>11434529778</td>\n",
       "      <td>71939820</td>\n",
       "      <td>1700126</td>\n",
       "    </tr>\n",
       "    <tr>\n",
       "      <th>4</th>\n",
       "      <td>2014</td>\n",
       "      <td>13183067388</td>\n",
       "      <td>82851451</td>\n",
       "      <td>1799645</td>\n",
       "    </tr>\n",
       "    <tr>\n",
       "      <th>5</th>\n",
       "      <td>2015</td>\n",
       "      <td>15317955826</td>\n",
       "      <td>82849209</td>\n",
       "      <td>1967811</td>\n",
       "    </tr>\n",
       "    <tr>\n",
       "      <th>6</th>\n",
       "      <td>2016</td>\n",
       "      <td>21620720941</td>\n",
       "      <td>123847257</td>\n",
       "      <td>3102667</td>\n",
       "    </tr>\n",
       "    <tr>\n",
       "      <th>7</th>\n",
       "      <td>2017</td>\n",
       "      <td>20262601782</td>\n",
       "      <td>118054468</td>\n",
       "      <td>3555671</td>\n",
       "    </tr>\n",
       "    <tr>\n",
       "      <th>8</th>\n",
       "      <td>2018</td>\n",
       "      <td>32855836775</td>\n",
       "      <td>201711947</td>\n",
       "      <td>6877595</td>\n",
       "    </tr>\n",
       "    <tr>\n",
       "      <th>9</th>\n",
       "      <td>2019</td>\n",
       "      <td>31784735734</td>\n",
       "      <td>256898493</td>\n",
       "      <td>7319201</td>\n",
       "    </tr>\n",
       "    <tr>\n",
       "      <th>10</th>\n",
       "      <td>2020</td>\n",
       "      <td>17275896957</td>\n",
       "      <td>166913824</td>\n",
       "      <td>6970625</td>\n",
       "    </tr>\n",
       "    <tr>\n",
       "      <th>11</th>\n",
       "      <td>2021</td>\n",
       "      <td>15558439500</td>\n",
       "      <td>195991915</td>\n",
       "      <td>5933746</td>\n",
       "    </tr>\n",
       "    <tr>\n",
       "      <th>12</th>\n",
       "      <td>2022</td>\n",
       "      <td>10912730800</td>\n",
       "      <td>152122799</td>\n",
       "      <td>4762628</td>\n",
       "    </tr>\n",
       "    <tr>\n",
       "      <th>13</th>\n",
       "      <td>2023</td>\n",
       "      <td>3782685599</td>\n",
       "      <td>54140451</td>\n",
       "      <td>2150543</td>\n",
       "    </tr>\n",
       "  </tbody>\n",
       "</table>\n",
       "</div>"
      ],
      "text/plain": [
       "    Year    viewCount  likeCount  commentCount\n",
       "0   2010      1662209      29257            73\n",
       "1   2011  30113879586  144932675       4029696\n",
       "2   2012   6840911977   34242289        823860\n",
       "3   2013  11434529778   71939820       1700126\n",
       "4   2014  13183067388   82851451       1799645\n",
       "5   2015  15317955826   82849209       1967811\n",
       "6   2016  21620720941  123847257       3102667\n",
       "7   2017  20262601782  118054468       3555671\n",
       "8   2018  32855836775  201711947       6877595\n",
       "9   2019  31784735734  256898493       7319201\n",
       "10  2020  17275896957  166913824       6970625\n",
       "11  2021  15558439500  195991915       5933746\n",
       "12  2022  10912730800  152122799       4762628\n",
       "13  2023   3782685599   54140451       2150543"
      ]
     },
     "execution_count": 33,
     "metadata": {},
     "output_type": "execute_result"
    }
   ],
   "source": [
    "year_wise_data= data.groupby('Year')[['viewCount', 'likeCount', 'commentCount']].sum().reset_index()\n",
    "year_wise_data"
   ]
  },
  {
   "cell_type": "code",
   "execution_count": 23,
   "id": "1c14b1e6",
   "metadata": {},
   "outputs": [
    {
     "data": {
      "image/png": "[encoded data removed]",
      "text/plain": [
       "<Figure size 1080x288 with 1 Axes>"
      ]
     },
     "metadata": {
      "needs_background": "light"
     },
     "output_type": "display_data"
    }
   ],
   "source": [
    "# Year-wise Song release trends\n",
    "df= data.Year.value_counts().reset_index()\n",
    "sns.lineplot(x='index', y='Year', data=df, marker='o', color='r')\n",
    "\n",
    "# Adding title and labels\n",
    "plt.title('Year-wise Song Release Trends')\n",
    "plt.xlabel('Year', fontsize=14)\n",
    "plt.ylabel('Number of Songs Released')\n",
    "\n",
    "# Display the plot\n",
    "plt.show()"
   ]
  },
  {
   "cell_type": "code",
   "execution_count": 34,
   "id": "80d2307a",
   "metadata": {},
   "outputs": [
    {
     "data": {
      "image/png": "[encoded data removed]",
      "text/plain": [
       "<Figure size 1080x288 with 1 Axes>"
      ]
     },
     "metadata": {
      "needs_background": "light"
     },
     "output_type": "display_data"
    }
   ],
   "source": [
    "# Year-wise Viwes Trends \n",
    "sns.lineplot(data= year_wise_data, x='Year',y='viewCount', marker='o', color='r')\n",
    "plt.title('Year-wise Viwes Trends')\n",
    "plt.xlabel('Year')\n",
    "plt.ylabel('Count of Viwes')\n",
    "plt.show()"
   ]
  },
  {
   "cell_type": "code",
   "execution_count": 35,
   "id": "5c2d02c8",
   "metadata": {},
   "outputs": [
    {
     "data": {
      "image/png": "[encoded data removed]",
      "text/plain": [
       "<Figure size 1080x288 with 1 Axes>"
      ]
     },
     "metadata": {
      "needs_background": "light"
     },
     "output_type": "display_data"
    }
   ],
   "source": [
    "# Year-wise Likes Trends \n",
    "sns.lineplot(data= year_wise_data, x='Year',y='likeCount', marker='o', color='r')\n",
    "plt.title('Year-wise Likes Trends')\n",
    "plt.xlabel('Year')\n",
    "plt.ylabel('Count of Likes')\n",
    "plt.show()"
   ]
  },
  {
   "cell_type": "code",
   "execution_count": 36,
   "id": "def27246",
   "metadata": {},
   "outputs": [
    {
     "data": {
      "image/png": "[encoded data removed]",
      "text/plain": [
       "<Figure size 1080x288 with 1 Axes>"
      ]
     },
     "metadata": {
      "needs_background": "light"
     },
     "output_type": "display_data"
    }
   ],
   "source": [
    "# Year-wise Comments Trends \n",
    "sns.lineplot(data= year_wise_data, x='Year',y='commentCount', marker='o', color='r')\n",
    "plt.title('Year-wise Comment Trends')\n",
    "plt.xlabel('Year')\n",
    "plt.ylabel('Count of Comment')\n",
    "plt.show()"
   ]
  },
  {
   "cell_type": "markdown",
   "id": "121b59ad",
   "metadata": {},
   "source": [
    "### Conclusion:\n",
    "\n",
    "* The analysis of YouTube song data across different years shows a significant increase in engagement metrics, especially from 2011 onwards.\n",
    "* The view counts, like counts, and comment counts have shown substantial growth, reflecting the rising popularity of YouTube as a platform for music content.                                        .            \n",
    "* Peaks in engagement metrics around certain years, such as 2018 and 2019, indicate periods of heightened activity and content consumption.                                                    \n",
    "* The data also highlights the increasing duration of videos, suggesting a trend towards longer content. This detailed yearly breakdown provides insights into the evolving dynamics of user engagement with YouTube music videos over the years."
   ]
  },
  {
   "cell_type": "code",
   "execution_count": null,
   "id": "4a545e2c",
   "metadata": {},
   "outputs": [],
   "source": []
  },
  {
   "cell_type": "markdown",
   "id": "e46efe52",
   "metadata": {},
   "source": [
    "# Month Wise Trends"
   ]
  },
  {
   "cell_type": "code",
   "execution_count": 37,
   "id": "d94e311b",
   "metadata": {},
   "outputs": [
    {
     "data": {
      "text/html": [
       "<div>\n",
       "<style scoped>\n",
       "    .dataframe tbody tr th:only-of-type {\n",
       "        vertical-align: middle;\n",
       "    }\n",
       "\n",
       "    .dataframe tbody tr th {\n",
       "        vertical-align: top;\n",
       "    }\n",
       "\n",
       "    .dataframe thead th {\n",
       "        text-align: right;\n",
       "    }\n",
       "</style>\n",
       "<table border=\"1\" class=\"dataframe\">\n",
       "  <thead>\n",
       "    <tr style=\"text-align: right;\">\n",
       "      <th></th>\n",
       "      <th>Month</th>\n",
       "      <th>viewCount</th>\n",
       "      <th>likeCount</th>\n",
       "      <th>commentCount</th>\n",
       "    </tr>\n",
       "  </thead>\n",
       "  <tbody>\n",
       "    <tr>\n",
       "      <th>0</th>\n",
       "      <td>April</td>\n",
       "      <td>20364749039</td>\n",
       "      <td>150185776</td>\n",
       "      <td>4597983</td>\n",
       "    </tr>\n",
       "    <tr>\n",
       "      <th>1</th>\n",
       "      <td>August</td>\n",
       "      <td>17429170155</td>\n",
       "      <td>126478503</td>\n",
       "      <td>4026209</td>\n",
       "    </tr>\n",
       "    <tr>\n",
       "      <th>2</th>\n",
       "      <td>December</td>\n",
       "      <td>21480829948</td>\n",
       "      <td>148329882</td>\n",
       "      <td>4874755</td>\n",
       "    </tr>\n",
       "    <tr>\n",
       "      <th>3</th>\n",
       "      <td>February</td>\n",
       "      <td>22172329709</td>\n",
       "      <td>149402799</td>\n",
       "      <td>4140916</td>\n",
       "    </tr>\n",
       "    <tr>\n",
       "      <th>4</th>\n",
       "      <td>January</td>\n",
       "      <td>14125185613</td>\n",
       "      <td>124740115</td>\n",
       "      <td>3288712</td>\n",
       "    </tr>\n",
       "    <tr>\n",
       "      <th>5</th>\n",
       "      <td>July</td>\n",
       "      <td>18522808143</td>\n",
       "      <td>137476933</td>\n",
       "      <td>4284059</td>\n",
       "    </tr>\n",
       "    <tr>\n",
       "      <th>6</th>\n",
       "      <td>June</td>\n",
       "      <td>14722247775</td>\n",
       "      <td>112093162</td>\n",
       "      <td>3329475</td>\n",
       "    </tr>\n",
       "    <tr>\n",
       "      <th>7</th>\n",
       "      <td>March</td>\n",
       "      <td>12914287614</td>\n",
       "      <td>105487788</td>\n",
       "      <td>3575966</td>\n",
       "    </tr>\n",
       "    <tr>\n",
       "      <th>8</th>\n",
       "      <td>May</td>\n",
       "      <td>36639909131</td>\n",
       "      <td>210749345</td>\n",
       "      <td>6215891</td>\n",
       "    </tr>\n",
       "    <tr>\n",
       "      <th>9</th>\n",
       "      <td>November</td>\n",
       "      <td>18833324449</td>\n",
       "      <td>150919858</td>\n",
       "      <td>4462429</td>\n",
       "    </tr>\n",
       "    <tr>\n",
       "      <th>10</th>\n",
       "      <td>October</td>\n",
       "      <td>18544270549</td>\n",
       "      <td>145974301</td>\n",
       "      <td>4553876</td>\n",
       "    </tr>\n",
       "    <tr>\n",
       "      <th>11</th>\n",
       "      <td>September</td>\n",
       "      <td>15196542727</td>\n",
       "      <td>124687393</td>\n",
       "      <td>3643616</td>\n",
       "    </tr>\n",
       "  </tbody>\n",
       "</table>\n",
       "</div>"
      ],
      "text/plain": [
       "        Month    viewCount  likeCount  commentCount\n",
       "0       April  20364749039  150185776       4597983\n",
       "1      August  17429170155  126478503       4026209\n",
       "2    December  21480829948  148329882       4874755\n",
       "3    February  22172329709  149402799       4140916\n",
       "4     January  14125185613  124740115       3288712\n",
       "5        July  18522808143  137476933       4284059\n",
       "6        June  14722247775  112093162       3329475\n",
       "7       March  12914287614  105487788       3575966\n",
       "8         May  36639909131  210749345       6215891\n",
       "9    November  18833324449  150919858       4462429\n",
       "10    October  18544270549  145974301       4553876\n",
       "11  September  15196542727  124687393       3643616"
      ]
     },
     "execution_count": 37,
     "metadata": {},
     "output_type": "execute_result"
    }
   ],
   "source": [
    "month_wise_data= data.groupby('Month')[['viewCount', 'likeCount', 'commentCount']].sum().reset_index()\n",
    "month_wise_data"
   ]
  },
  {
   "cell_type": "code",
   "execution_count": 38,
   "id": "2b2fbefe",
   "metadata": {},
   "outputs": [
    {
     "data": {
      "image/png": "[encoded data removed]",
      "text/plain": [
       "<Figure size 1080x288 with 1 Axes>"
      ]
     },
     "metadata": {
      "needs_background": "light"
     },
     "output_type": "display_data"
    }
   ],
   "source": [
    "# Month-wise Viwes Trends \n",
    "sns.lineplot(data= month_wise_data, x='Month',y='viewCount', marker='o', color='r')\n",
    "plt.title('Month-wise Viwes Trends')\n",
    "plt.xlabel('Month')\n",
    "plt.ylabel('Count of Viwes')\n",
    "plt.show()"
   ]
  },
  {
   "cell_type": "code",
   "execution_count": 39,
   "id": "a1f8d95e",
   "metadata": {},
   "outputs": [
    {
     "data": {
      "image/png": "[encoded data removed]",
      "text/plain": [
       "<Figure size 1080x288 with 1 Axes>"
      ]
     },
     "metadata": {
      "needs_background": "light"
     },
     "output_type": "display_data"
    }
   ],
   "source": [
    "# Month-wise Likes Trends \n",
    "sns.lineplot(data= month_wise_data, x='Month',y='likeCount')\n",
    "plt.title('Month-wise Likes Trends')\n",
    "plt.xlabel('Month')\n",
    "plt.ylabel('Count of Likes')\n",
    "plt.show()"
   ]
  },
  {
   "cell_type": "code",
   "execution_count": 40,
   "id": "d4d706f5",
   "metadata": {},
   "outputs": [
    {
     "data": {
      "image/png": "[encoded data removed]",
      "text/plain": [
       "<Figure size 1080x288 with 1 Axes>"
      ]
     },
     "metadata": {
      "needs_background": "light"
     },
     "output_type": "display_data"
    }
   ],
   "source": [
    "# Month-wise Comments Trends \n",
    "sns.lineplot(data= month_wise_data, x='Month',y='commentCount', marker='o', color='r')\n",
    "plt.title('Month-wise Comment Trends')\n",
    "plt.xlabel('Month')\n",
    "plt.ylabel('Count of Comment')\n",
    "plt.show()"
   ]
  },
  {
   "cell_type": "markdown",
   "id": "12a08f5c",
   "metadata": {},
   "source": [
    "### Conclusion:\n",
    "\n",
    "Analyzing the data by month reveals several key trends in view count, like count, comment count, and video duration for YouTube songs:\n",
    "\n",
    "- **May** stands out with the highest engagement, amassing over 36.6 billion views, 210.7 million likes, and 6.2 million comments, with a significantly high total video duration of 21,068 minutes.\n",
    "- **December** also shows high engagement with over 21.4 billion views, 148.3 million likes, and 4.8 million comments.\n",
    "- **February** and **April** have strong engagement metrics, indicating that the early part of the year is a popular time for YouTube music videos.\n",
    "- **January** has relatively lower engagement metrics compared to other months, suggesting a possible post-holiday slowdown.\n",
    "- **June** and **September** exhibit moderate engagement metrics, indicating steady activity during the middle of the year.\n",
    "\n",
    "Overall, the analysis highlights May as a peak month for YouTube song engagement, with significant activity also seen in December, April, and February."
   ]
  },
  {
   "cell_type": "code",
   "execution_count": null,
   "id": "76aaefe5",
   "metadata": {},
   "outputs": [],
   "source": []
  },
  {
   "cell_type": "markdown",
   "id": "558f0e0b",
   "metadata": {},
   "source": [
    "# Weekday Wise Trends"
   ]
  },
  {
   "cell_type": "code",
   "execution_count": 41,
   "id": "21c34677",
   "metadata": {},
   "outputs": [
    {
     "data": {
      "text/html": [
       "<div>\n",
       "<style scoped>\n",
       "    .dataframe tbody tr th:only-of-type {\n",
       "        vertical-align: middle;\n",
       "    }\n",
       "\n",
       "    .dataframe tbody tr th {\n",
       "        vertical-align: top;\n",
       "    }\n",
       "\n",
       "    .dataframe thead th {\n",
       "        text-align: right;\n",
       "    }\n",
       "</style>\n",
       "<table border=\"1\" class=\"dataframe\">\n",
       "  <thead>\n",
       "    <tr style=\"text-align: right;\">\n",
       "      <th></th>\n",
       "      <th>Day</th>\n",
       "      <th>viewCount</th>\n",
       "      <th>likeCount</th>\n",
       "      <th>commentCount</th>\n",
       "    </tr>\n",
       "  </thead>\n",
       "  <tbody>\n",
       "    <tr>\n",
       "      <th>0</th>\n",
       "      <td>Friday</td>\n",
       "      <td>36734156886</td>\n",
       "      <td>269467101</td>\n",
       "      <td>8153483</td>\n",
       "    </tr>\n",
       "    <tr>\n",
       "      <th>1</th>\n",
       "      <td>Monday</td>\n",
       "      <td>39831661717</td>\n",
       "      <td>281506108</td>\n",
       "      <td>9036447</td>\n",
       "    </tr>\n",
       "    <tr>\n",
       "      <th>2</th>\n",
       "      <td>Saturday</td>\n",
       "      <td>24141899831</td>\n",
       "      <td>181389896</td>\n",
       "      <td>5225298</td>\n",
       "    </tr>\n",
       "    <tr>\n",
       "      <th>3</th>\n",
       "      <td>Sunday</td>\n",
       "      <td>8614552436</td>\n",
       "      <td>75622161</td>\n",
       "      <td>2345576</td>\n",
       "    </tr>\n",
       "    <tr>\n",
       "      <th>4</th>\n",
       "      <td>Thursday</td>\n",
       "      <td>38841951315</td>\n",
       "      <td>284347953</td>\n",
       "      <td>8542463</td>\n",
       "    </tr>\n",
       "    <tr>\n",
       "      <th>5</th>\n",
       "      <td>Tuesday</td>\n",
       "      <td>43433493880</td>\n",
       "      <td>296185635</td>\n",
       "      <td>9202071</td>\n",
       "    </tr>\n",
       "    <tr>\n",
       "      <th>6</th>\n",
       "      <td>Wednesday</td>\n",
       "      <td>39347938787</td>\n",
       "      <td>298007001</td>\n",
       "      <td>8488549</td>\n",
       "    </tr>\n",
       "  </tbody>\n",
       "</table>\n",
       "</div>"
      ],
      "text/plain": [
       "         Day    viewCount  likeCount  commentCount\n",
       "0     Friday  36734156886  269467101       8153483\n",
       "1     Monday  39831661717  281506108       9036447\n",
       "2   Saturday  24141899831  181389896       5225298\n",
       "3     Sunday   8614552436   75622161       2345576\n",
       "4   Thursday  38841951315  284347953       8542463\n",
       "5    Tuesday  43433493880  296185635       9202071\n",
       "6  Wednesday  39347938787  298007001       8488549"
      ]
     },
     "execution_count": 41,
     "metadata": {},
     "output_type": "execute_result"
    }
   ],
   "source": [
    "day_wise_data= data.groupby('Day')[['viewCount', 'likeCount', 'commentCount']].sum().reset_index()\n",
    "day_wise_data"
   ]
  },
  {
   "cell_type": "code",
   "execution_count": 42,
   "id": "6ba64c7a",
   "metadata": {},
   "outputs": [
    {
     "data": {
      "image/png": "[encoded data removed]",
      "text/plain": [
       "<Figure size 1080x288 with 1 Axes>"
      ]
     },
     "metadata": {
      "needs_background": "light"
     },
     "output_type": "display_data"
    }
   ],
   "source": [
    "# Day-wise Viwes Trends \n",
    "sns.lineplot(data= day_wise_data, x='Day',y='viewCount', marker='o', color='r')\n",
    "plt.title('Day-wise Viwes Trends')\n",
    "plt.xlabel('Day')\n",
    "plt.ylabel('Count of Viwes')\n",
    "plt.show()"
   ]
  },
  {
   "cell_type": "code",
   "execution_count": 43,
   "id": "18a27eaf",
   "metadata": {},
   "outputs": [
    {
     "data": {
      "image/png": "[encoded data removed]",
      "text/plain": [
       "<Figure size 1080x288 with 1 Axes>"
      ]
     },
     "metadata": {
      "needs_background": "light"
     },
     "output_type": "display_data"
    }
   ],
   "source": [
    "# Day-wise Likes Trends \n",
    "sns.lineplot(data= day_wise_data, x='Day',y='likeCount', marker='o', color='r')\n",
    "plt.title('Day-wise Likes Trends')\n",
    "plt.xlabel('Day')\n",
    "plt.ylabel('Count of Likes')\n",
    "plt.show()"
   ]
  },
  {
   "cell_type": "code",
   "execution_count": 44,
   "id": "da4bfc4c",
   "metadata": {},
   "outputs": [
    {
     "data": {
      "image/png": "[encoded data removed]",
      "text/plain": [
       "<Figure size 1080x288 with 1 Axes>"
      ]
     },
     "metadata": {
      "needs_background": "light"
     },
     "output_type": "display_data"
    }
   ],
   "source": [
    "# Day-wise Comments Trends \n",
    "sns.lineplot(data= day_wise_data, x='Day',y='commentCount', marker='o', color='r')\n",
    "plt.title('Day-wise Comment Trends')\n",
    "plt.xlabel('Day')\n",
    "plt.ylabel('Count of Comment')\n",
    "plt.show()"
   ]
  },
  {
   "cell_type": "markdown",
   "id": "c6adbbc8",
   "metadata": {},
   "source": [
    "### Conclusion:\n",
    "\n",
    "Analyzing the data by day of the week reveals distinct patterns in view count, like count, comment count, and video duration for YouTube songs:\n",
    "\n",
    "- **Tuesday** has the highest total view count at over 43.4 billion, along with the highest like count and comment count, making it a peak day for YouTube song engagement.\n",
    "- **Monday** and **Thursday** also show high engagement, with view counts of approximately 39.8 billion and 38.8 billion, respectively. These days are marked by significant numbers of likes and comments.\n",
    "- **Friday** and **Wednesday** also have substantial engagement, with over 36.7 billion and 39.3 billion views, respectively, and high like and comment counts.\n",
    "- **Saturday** and **Sunday** show lower engagement compared to weekdays, with Sunday having the least activity, indicating a potential drop in user engagement during weekends.\n",
    "\n",
    "Overall, the analysis highlights Tuesday as the most active day for YouTube song engagement, with significant activity also seen on Monday, Thursday, and Wednesday. Weekends, particularly Sunday, tend to have lower engagement metrics."
   ]
  },
  {
   "cell_type": "code",
   "execution_count": null,
   "id": "c7834f03",
   "metadata": {},
   "outputs": [],
   "source": []
  },
  {
   "cell_type": "markdown",
   "id": "0e23534f",
   "metadata": {},
   "source": [
    "### Overall Conclusion\n",
    "\n",
    "This comprehensive analysis of YouTube song data using Power BI and Python reveals key insights into the performance, popularity, and user engagement of YouTube song videos. By examining various attributes such as view counts, like counts, comment counts, and video durations across different dimensions, several important trends and patterns have emerged.\n",
    "\n",
    "1. **Total and Unique Song Data**:\n",
    "   - The dataset includes 19,345 unique songs, all from the T-Series channel.\n",
    "   - The data spans from 2010 to 2023, with notable variations in song releases and engagement over these years.\n",
    "\n",
    "2. **Temporal Analysis**:\n",
    "   - Peak years for song releases include 2011, 2022, and 2016.\n",
    "   - Monthly analysis shows that May has the highest number of song releases, followed by April and July.\n",
    "   - Daily analysis indicates that Monday and Tuesday are the most active days for publishing songs, while Sunday sees the least activity.\n",
    "\n",
    "3. **Engagement Metrics**:\n",
    "   - Statistical overview shows high variability in view counts, like counts, and comment counts.\n",
    "   - Maximum view count reaches over 1.5 billion, with an average of approximately 11.9 million views per song.\n",
    "   - Likes and comments also exhibit significant variability, with maximums of 12.8 million likes and 420,375 comments.\n",
    "\n",
    "4. **Content Quality and Accessibility**:\n",
    "   - The majority of videos are in high definition (HD), accounting for 16,583 videos, while 2,762 are in standard definition (SD).\n",
    "   - Most videos do not have captions, with only 201 videos including captions.\n",
    "\n",
    "5. **Correlation and Covariance**:\n",
    "   - Strong positive correlations exist between view counts, like counts, and comment counts, indicating that popular videos tend to garner high engagement across multiple metrics.\n",
    "   - Duration shows a weak correlation with other metrics, suggesting that the length of a song video has minimal impact on its engagement.\n",
    "\n",
    "6. **Skewness**:\n",
    "   - All engagement metrics (viewCount, likeCount, commentCount) are highly skewed, indicating that a small number of videos receive exceptionally high engagement.\n",
    "\n",
    "7. **Day and Month Analysis**:\n",
    "   - Weekdays, especially Monday and Tuesday, see higher engagement in terms of views, likes, and comments.\n",
    "   - The month of May stands out with significantly higher engagement metrics, followed by December and February.\n",
    "\n"
   ]
  },
  {
   "cell_type": "markdown",
   "id": "73f640de",
   "metadata": {},
   "source": [
    "### Recommendations\n",
    "\n",
    "1. **Optimal Publishing Schedule**:\n",
    "   - To maximize engagement, content creators should consider publishing songs on Mondays and Tuesdays, particularly in May and December.\n",
    "\n",
    "2. **Content Quality**:\n",
    "   - Maintaining high-definition video quality can enhance user experience and engagement.\n",
    "\n",
    "3. **Caption Inclusion**:\n",
    "   - Increasing the availability of captions can make content more accessible to a broader audience, potentially boosting engagement.\n",
    "\n",
    "4. **Content Strategy**:\n",
    "   - Focus on producing content that can achieve high view counts, as it correlates strongly with likes and comments, amplifying overall engagement.\n",
    "\n",
    "This analysis provides valuable insights for content creators and stakeholders, helping them optimize their YouTube song content strategy and enhance user engagement. The interactive Power BI dashboards and visualizations created in this project further facilitate data-driven decision-making and strategic planning in the dynamic domain of YouTube songs."
   ]
  },
  {
   "cell_type": "code",
   "execution_count": null,
   "id": "bc2abfb2",
   "metadata": {},
   "outputs": [],
   "source": []
  }
 ],
 "metadata": {
  "kernelspec": {
   "display_name": "Python 3 (ipykernel)",
   "language": "python",
   "name": "python3"
  },
  "language_info": {
   "codemirror_mode": {
    "name": "ipython",
    "version": 3
   },
   "file_extension": ".py",
   "mimetype": "text/x-python",
   "name": "python",
   "nbconvert_exporter": "python",
   "pygments_lexer": "ipython3",
   "version": "3.9.12"
  }
 },
 "nbformat": 4,
 "nbformat_minor": 5
}
